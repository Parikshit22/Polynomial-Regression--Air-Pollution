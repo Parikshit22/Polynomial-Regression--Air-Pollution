{
 "cells": [
  {
   "cell_type": "code",
   "execution_count": 19,
   "metadata": {},
   "outputs": [],
   "source": [
    "import numpy as np\n",
    "import matplotlib.pyplot as plt\n",
    "import pandas as pd\n",
    "from sklearn.linear_model import LinearRegression\n",
    "dataset = pd.read_csv(\"Train.csv\")\n",
    "x_test = pd.read_csv(\"Test.csv\")\n",
    "x_test = x_test.values\n",
    "x_data = dataset.drop([\"target\"],axis = 1)\n",
    "y_data = dataset[\"target\"]\n",
    "x_data = x_data.values\n",
    "y_data = y_data.values"
   ]
  },
  {
   "cell_type": "code",
   "execution_count": 27,
   "metadata": {},
   "outputs": [
    {
     "name": "stdout",
     "output_type": "stream",
     "text": [
      "0.9660939669975616\n"
     ]
    }
   ],
   "source": [
    "reg = LinearRegression(normalize=True)\n",
    "reg.fit(x_data,y_data)\n",
    "print(reg.score(x_data,y_data))\n",
    "pred = reg.predict(x_test)\n",
    "m = x_test.shape[0]\n",
    "Id  = np.arange(m)\n",
    "dict = {'Id':Id,'target':pred}\n",
    "ans = pd.DataFrame(dict)\n",
    "ans.to_csv(\"file.csv\")"
   ]
  },
  {
   "cell_type": "code",
   "execution_count": null,
   "metadata": {},
   "outputs": [],
   "source": []
  }
 ],
 "metadata": {
  "kernelspec": {
   "display_name": "Python 3",
   "language": "python",
   "name": "python3"
  },
  "language_info": {
   "codemirror_mode": {
    "name": "ipython",
    "version": 3
   },
   "file_extension": ".py",
   "mimetype": "text/x-python",
   "name": "python",
   "nbconvert_exporter": "python",
   "pygments_lexer": "ipython3",
   "version": "3.6.8"
  }
 },
 "nbformat": 4,
 "nbformat_minor": 2
}
